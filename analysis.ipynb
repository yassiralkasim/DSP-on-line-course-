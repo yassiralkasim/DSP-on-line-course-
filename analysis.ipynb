{
 "cells": [
  {
   "cell_type": "code",
   "execution_count": 1,
   "metadata": {},
   "outputs": [],
   "source": [
    "import numpy as np\n",
    "import matplotlib.pyplot as plt\n",
    "from scipy.signal import convolve"
   ]
  },
  {
   "cell_type": "code",
   "execution_count": 2,
   "metadata": {},
   "outputs": [],
   "source": [
    "# Input signal\n",
    "x = np.array([1, 2, 3, 1])\n",
    "# LTI system impulse response\n",
    "h = np.array([1, 2, 1, -1])\n",
    "# Responses for Associative and Distributive analysis\n",
    "h1 = np.array([1, 0, -1])\n",
    "h2 = np.array([2, 1])"
   ]
  },
  {
   "cell_type": "code",
   "execution_count": 6,
   "metadata": {},
   "outputs": [
    {
     "name": "stdout",
     "output_type": "stream",
     "text": [
      "0\n",
      "1\n",
      "2\n",
      "3\n",
      "4\n",
      "5\n",
      "6\n"
     ]
    }
   ],
   "source": [
    "len_y = len(x) + len(h) - 1 \n",
    "# print(len_y)\n",
    "for n in range(len_y):\n",
    "    print(n)"
   ]
  },
  {
   "cell_type": "markdown",
   "metadata": {},
   "source": [
    "# Convultion"
   ]
  },
  {
   "cell_type": "code",
   "execution_count": 8,
   "metadata": {},
   "outputs": [],
   "source": [
    "# Define convultion equation which takes as inputs x signal and h impulse response\n",
    "def convolution(x, h):\n",
    "    len_y = len(x) + len(h) - 1 \n",
    "    y = np.zeros(len_y)\n",
    "\n",
    "    for n in range(len_y):\n",
    "\n",
    "        for k in range(len(x)):\n",
    "            if n-k >= 0 and n - k < len(h):\n",
    "                y[n] += x[k] * h[n - k]\n",
    "\n",
    "    return y"
   ]
  },
  {
   "cell_type": "code",
   "execution_count": 9,
   "metadata": {},
   "outputs": [
    {
     "name": "stdout",
     "output_type": "stream",
     "text": [
      "[ 1.  4.  8.  8.  3. -2. -1.]\n"
     ]
    }
   ],
   "source": [
    "\n",
    "# Calculate the LTI system response with convolution\n",
    "y = convolution(x, h)\n",
    "print(y)"
   ]
  },
  {
   "cell_type": "code",
   "execution_count": 10,
   "metadata": {},
   "outputs": [
    {
     "name": "stdout",
     "output_type": "stream",
     "text": [
      "[ 1  4  8  8  3 -2 -1]\n"
     ]
    }
   ],
   "source": [
    "y = convolve(x, h)\n",
    "print(y)"
   ]
  },
  {
   "cell_type": "markdown",
   "metadata": {},
   "source": [
    "## Commutative law\n",
    "x * h = h * x"
   ]
  },
  {
   "cell_type": "code",
   "execution_count": 11,
   "metadata": {},
   "outputs": [
    {
     "name": "stdout",
     "output_type": "stream",
     "text": [
      "[ 1.  4.  8.  8.  3. -2. -1.]\n",
      "[ 1.  4.  8.  8.  3. -2. -1.]\n"
     ]
    }
   ],
   "source": [
    "y1 = convolution(x, h)\n",
    "y2 = convolution(h, x)\n",
    "print(y1)\n",
    "print(y2)"
   ]
  },
  {
   "cell_type": "markdown",
   "metadata": {},
   "source": [
    "## Associative law\n",
    "x * (h1 * h2) = (x * h1) * h2"
   ]
  },
  {
   "cell_type": "code",
   "execution_count": 12,
   "metadata": {},
   "outputs": [
    {
     "name": "stdout",
     "output_type": "stream",
     "text": [
      "[ 2.  5.  6.  0. -7. -5. -1.]\n",
      "[ 2.  5.  6.  0. -7. -5. -1.]\n"
     ]
    }
   ],
   "source": [
    "y1 = convolution(x, convolution(h1, h2))\n",
    "y2 = convolution(convolution(x, h1), h2)\n",
    "print(y1)\n",
    "print(y2)"
   ]
  },
  {
   "cell_type": "markdown",
   "metadata": {},
   "source": [
    "## Distributive law\n",
    "x * (h1 + h2) = (x * h1) + (x * h2)"
   ]
  },
  {
   "cell_type": "code",
   "execution_count": 16,
   "metadata": {},
   "outputs": [
    {
     "name": "stdout",
     "output_type": "stream",
     "text": [
      "y1 = x * (h1 + h2) [ 3.  7. 10.  4. -2. -1.]\n",
      "============\n",
      "y2 = x * h1 [ 1.  2.  2. -1. -3. -1.]\n",
      "y3 = x * h2 [2. 5. 8. 5. 1.]\n"
     ]
    }
   ],
   "source": [
    "# We pad h2 with zero in order to have sum of h1 and h2 with same dimensions\n",
    "h_sum = h1 + np.array([2, 1, 0])\n",
    "y1 = convolution(x, h_sum)\n",
    "y2 = convolution(x, h1) \n",
    "y3 = convolution(x, h2)\n",
    "print(\"y1 = x * (h1 + h2)\", y1)\n",
    "print('============')\n",
    "print(\"y2 = x * h1\", y2)\n",
    "print(\"y3 = x * h2\", y3)"
   ]
  },
  {
   "cell_type": "markdown",
   "metadata": {},
   "source": [
    "## Difference Equation\n",
    "y[n] = 0.5y[n-1] + x[n]"
   ]
  },
  {
   "cell_type": "code",
   "execution_count": 17,
   "metadata": {},
   "outputs": [
    {
     "name": "stdout",
     "output_type": "stream",
     "text": [
      "[1. 1. 1. 1. 1. 1. 1. 1. 1. 1.]\n",
      "=====================\n",
      "[1.         1.5        1.75       1.875      1.9375     1.96875\n",
      " 1.984375   1.9921875  1.99609375 1.99804688]\n"
     ]
    }
   ],
   "source": [
    "from scipy.signal  import lfilter\n",
    "\n",
    "x = np.ones(10)\n",
    "a = [1, -0.5]\n",
    "b = [1]\n",
    "\n",
    "y = lfilter(b, a, x)\n",
    "print(x)\n",
    "print('=====================')\n",
    "print(y)\n",
    "\n"
   ]
  },
  {
   "cell_type": "code",
   "execution_count": 18,
   "metadata": {},
   "outputs": [
    {
     "name": "stderr",
     "output_type": "stream",
     "text": [
      "C:\\Users\\yasse\\AppData\\Local\\Temp\\ipykernel_14552\\1477874637.py:2: MatplotlibDeprecationWarning: The 'use_line_collection' parameter of stem() was deprecated in Matplotlib 3.6 and will be removed two minor releases later. If any parameter follows 'use_line_collection', they should be passed as keyword, not positionally.\n",
      "  plt.stem(range(len(y)), y, label='Response', use_line_collection=True)\n",
      "C:\\Users\\yasse\\AppData\\Local\\Temp\\ipykernel_14552\\1477874637.py:3: MatplotlibDeprecationWarning: The 'use_line_collection' parameter of stem() was deprecated in Matplotlib 3.6 and will be removed two minor releases later. If any parameter follows 'use_line_collection', they should be passed as keyword, not positionally.\n",
      "  plt.stem(range(len(x)), x, label='Input Unit Step', linefmt='r', use_line_collection=True)\n"
     ]
    },
    {
     "data": {
      "image/png": "[encoded data removed]",
      "text/plain": [
       "<Figure size 640x480 with 1 Axes>"
      ]
     },
     "metadata": {},
     "output_type": "display_data"
    }
   ],
   "source": [
    "plt.figure()\n",
    "plt.stem(range(len(y)), y, label='Response', use_line_collection=True)\n",
    "plt.stem(range(len(x)), x, label='Input Unit Step', linefmt='r', use_line_collection=True)\n",
    "plt.title('Difference Equation of IIR system')\n",
    "plt.xlabel('n')\n",
    "plt.ylabel('Amplitude')\n",
    "plt.legend()\n",
    "plt.grid()\n",
    "plt.show()"
   ]
  },
  {
   "cell_type": "markdown",
   "metadata": {},
   "source": [
    "# Correlation\n",
    "## Cross Correlation"
   ]
  },
  {
   "cell_type": "code",
   "execution_count": 19,
   "metadata": {},
   "outputs": [],
   "source": [
    "# First Signal\n",
    "x = np.array([1, 2, 3, 4])\n",
    "# Second Signal\n",
    "y = np.array([1, -1, 2])"
   ]
  },
  {
   "cell_type": "code",
   "execution_count": 20,
   "metadata": {},
   "outputs": [
    {
     "name": "stdout",
     "output_type": "stream",
     "text": [
      "[ 2  3  5  7 -1  4]\n"
     ]
    }
   ],
   "source": [
    "\n",
    "xy_corr = np.correlate(x, y, mode='full')\n",
    "print(xy_corr)\n"
   ]
  },
  {
   "cell_type": "code",
   "execution_count": 21,
   "metadata": {},
   "outputs": [
    {
     "name": "stdout",
     "output_type": "stream",
     "text": [
      "[1. 1. 3. 5. 2. 8.]\n"
     ]
    }
   ],
   "source": [
    "xy_corr2 = convolution(x, y)\n",
    "print(xy_corr2)"
   ]
  },
  {
   "cell_type": "code",
   "execution_count": 22,
   "metadata": {},
   "outputs": [
    {
     "name": "stdout",
     "output_type": "stream",
     "text": [
      "[ 4 11 20 30 20 11  4]\n"
     ]
    }
   ],
   "source": [
    "xx_corr = np.correlate(x, x, mode='full')\n",
    "print(xx_corr)"
   ]
  },
  {
   "cell_type": "code",
   "execution_count": 24,
   "metadata": {},
   "outputs": [
    {
     "name": "stdout",
     "output_type": "stream",
     "text": [
      "[ 2 -3  6 -3  2]\n"
     ]
    }
   ],
   "source": [
    "yy_corr = np.correlate(y, y, mode='full')\n",
    "print(yy_corr)"
   ]
  },
  {
   "cell_type": "code",
   "execution_count": null,
   "metadata": {},
   "outputs": [],
   "source": []
  }
 ],
 "metadata": {
  "kernelspec": {
   "display_name": "base",
   "language": "python",
   "name": "python3"
  },
  "language_info": {
   "codemirror_mode": {
    "name": "ipython",
    "version": 3
   },
   "file_extension": ".py",
   "mimetype": "text/x-python",
   "name": "python",
   "nbconvert_exporter": "python",
   "pygments_lexer": "ipython3",
   "version": "3.9.17"
  }
 },
 "nbformat": 4,
 "nbformat_minor": 2
}
